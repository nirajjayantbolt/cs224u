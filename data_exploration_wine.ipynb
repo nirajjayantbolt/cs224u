{
 "cells": [
  {
   "cell_type": "code",
   "execution_count": 2,
   "metadata": {},
   "outputs": [],
   "source": [
    "__author__ = \"Niraj Jayant\"\n",
    "__version__ = \"CS224u, Stanford, Spring 2020\""
   ]
  },
  {
   "cell_type": "markdown",
   "metadata": {},
   "source": [
    "## Contents\n",
    "\n",
    "1. [Overview](#Overview)\n",
    "1. [Set-up](#Set-up)\n"
   ]
  },
  {
   "cell_type": "markdown",
   "metadata": {},
   "source": [
    "## Overview\n",
    "\n",
    "This will be the data exploration for "
   ]
  },
  {
   "cell_type": "markdown",
   "metadata": {},
   "source": [
    "## Set-up"
   ]
  },
  {
   "cell_type": "code",
   "execution_count": 1,
   "metadata": {},
   "outputs": [],
   "source": [
    "import pandas as pd\n",
    "import os\n",
    "from IPython.display import display, HTML"
   ]
  },
  {
   "cell_type": "code",
   "execution_count": 2,
   "metadata": {},
   "outputs": [],
   "source": [
    "WINE_SRC_FILENAME = os.path.join(\n",
    "    \"data\", \"wine-reviews\", \"winemag-data-130k-v2.csv\")"
   ]
  },
  {
   "cell_type": "code",
   "execution_count": 93,
   "metadata": {},
   "outputs": [
    {
     "data": {
      "text/html": [
       "<div>\n",
       "<style scoped>\n",
       "    .dataframe tbody tr th:only-of-type {\n",
       "        vertical-align: middle;\n",
       "    }\n",
       "\n",
       "    .dataframe tbody tr th {\n",
       "        vertical-align: top;\n",
       "    }\n",
       "\n",
       "    .dataframe thead th {\n",
       "        text-align: right;\n",
       "    }\n",
       "</style>\n",
       "<table border=\"1\" class=\"dataframe\">\n",
       "  <thead>\n",
       "    <tr style=\"text-align: right;\">\n",
       "      <th></th>\n",
       "      <th>Unnamed: 0</th>\n",
       "      <th>country</th>\n",
       "      <th>description</th>\n",
       "      <th>designation</th>\n",
       "      <th>points</th>\n",
       "      <th>price</th>\n",
       "      <th>province</th>\n",
       "      <th>region_1</th>\n",
       "      <th>region_2</th>\n",
       "      <th>taster_name</th>\n",
       "      <th>taster_twitter_handle</th>\n",
       "      <th>title</th>\n",
       "      <th>variety</th>\n",
       "      <th>winery</th>\n",
       "    </tr>\n",
       "  </thead>\n",
       "  <tbody>\n",
       "    <tr>\n",
       "      <th>0</th>\n",
       "      <td>0</td>\n",
       "      <td>Italy</td>\n",
       "      <td>Aromas include tropical fruit, broom, brimston...</td>\n",
       "      <td>Vulkà Bianco</td>\n",
       "      <td>87</td>\n",
       "      <td>NaN</td>\n",
       "      <td>Sicily &amp; Sardinia</td>\n",
       "      <td>Etna</td>\n",
       "      <td>NaN</td>\n",
       "      <td>Kerin O’Keefe</td>\n",
       "      <td>@kerinokeefe</td>\n",
       "      <td>Nicosia 2013 Vulkà Bianco  (Etna)</td>\n",
       "      <td>White Blend</td>\n",
       "      <td>Nicosia</td>\n",
       "    </tr>\n",
       "    <tr>\n",
       "      <th>1</th>\n",
       "      <td>1</td>\n",
       "      <td>Portugal</td>\n",
       "      <td>This is ripe and fruity, a wine that is smooth...</td>\n",
       "      <td>Avidagos</td>\n",
       "      <td>87</td>\n",
       "      <td>15.0</td>\n",
       "      <td>Douro</td>\n",
       "      <td>NaN</td>\n",
       "      <td>NaN</td>\n",
       "      <td>Roger Voss</td>\n",
       "      <td>@vossroger</td>\n",
       "      <td>Quinta dos Avidagos 2011 Avidagos Red (Douro)</td>\n",
       "      <td>Portuguese Red</td>\n",
       "      <td>Quinta dos Avidagos</td>\n",
       "    </tr>\n",
       "    <tr>\n",
       "      <th>2</th>\n",
       "      <td>2</td>\n",
       "      <td>US</td>\n",
       "      <td>Tart and snappy, the flavors of lime flesh and...</td>\n",
       "      <td>NaN</td>\n",
       "      <td>87</td>\n",
       "      <td>14.0</td>\n",
       "      <td>Oregon</td>\n",
       "      <td>Willamette Valley</td>\n",
       "      <td>Willamette Valley</td>\n",
       "      <td>Paul Gregutt</td>\n",
       "      <td>@paulgwine</td>\n",
       "      <td>Rainstorm 2013 Pinot Gris (Willamette Valley)</td>\n",
       "      <td>Pinot Gris</td>\n",
       "      <td>Rainstorm</td>\n",
       "    </tr>\n",
       "    <tr>\n",
       "      <th>3</th>\n",
       "      <td>3</td>\n",
       "      <td>US</td>\n",
       "      <td>Pineapple rind, lemon pith and orange blossom ...</td>\n",
       "      <td>Reserve Late Harvest</td>\n",
       "      <td>87</td>\n",
       "      <td>13.0</td>\n",
       "      <td>Michigan</td>\n",
       "      <td>Lake Michigan Shore</td>\n",
       "      <td>NaN</td>\n",
       "      <td>Alexander Peartree</td>\n",
       "      <td>NaN</td>\n",
       "      <td>St. Julian 2013 Reserve Late Harvest Riesling ...</td>\n",
       "      <td>Riesling</td>\n",
       "      <td>St. Julian</td>\n",
       "    </tr>\n",
       "    <tr>\n",
       "      <th>4</th>\n",
       "      <td>4</td>\n",
       "      <td>US</td>\n",
       "      <td>Much like the regular bottling from 2012, this...</td>\n",
       "      <td>Vintner's Reserve Wild Child Block</td>\n",
       "      <td>87</td>\n",
       "      <td>65.0</td>\n",
       "      <td>Oregon</td>\n",
       "      <td>Willamette Valley</td>\n",
       "      <td>Willamette Valley</td>\n",
       "      <td>Paul Gregutt</td>\n",
       "      <td>@paulgwine</td>\n",
       "      <td>Sweet Cheeks 2012 Vintner's Reserve Wild Child...</td>\n",
       "      <td>Pinot Noir</td>\n",
       "      <td>Sweet Cheeks</td>\n",
       "    </tr>\n",
       "  </tbody>\n",
       "</table>\n",
       "</div>"
      ],
      "text/plain": [
       "   Unnamed: 0   country                                        description  \\\n",
       "0           0     Italy  Aromas include tropical fruit, broom, brimston...   \n",
       "1           1  Portugal  This is ripe and fruity, a wine that is smooth...   \n",
       "2           2        US  Tart and snappy, the flavors of lime flesh and...   \n",
       "3           3        US  Pineapple rind, lemon pith and orange blossom ...   \n",
       "4           4        US  Much like the regular bottling from 2012, this...   \n",
       "\n",
       "                          designation  points  price           province  \\\n",
       "0                        Vulkà Bianco      87    NaN  Sicily & Sardinia   \n",
       "1                            Avidagos      87   15.0              Douro   \n",
       "2                                 NaN      87   14.0             Oregon   \n",
       "3                Reserve Late Harvest      87   13.0           Michigan   \n",
       "4  Vintner's Reserve Wild Child Block      87   65.0             Oregon   \n",
       "\n",
       "              region_1           region_2         taster_name  \\\n",
       "0                 Etna                NaN       Kerin O’Keefe   \n",
       "1                  NaN                NaN          Roger Voss   \n",
       "2    Willamette Valley  Willamette Valley        Paul Gregutt   \n",
       "3  Lake Michigan Shore                NaN  Alexander Peartree   \n",
       "4    Willamette Valley  Willamette Valley        Paul Gregutt   \n",
       "\n",
       "  taster_twitter_handle                                              title  \\\n",
       "0          @kerinokeefe                  Nicosia 2013 Vulkà Bianco  (Etna)   \n",
       "1            @vossroger      Quinta dos Avidagos 2011 Avidagos Red (Douro)   \n",
       "2           @paulgwine       Rainstorm 2013 Pinot Gris (Willamette Valley)   \n",
       "3                   NaN  St. Julian 2013 Reserve Late Harvest Riesling ...   \n",
       "4           @paulgwine   Sweet Cheeks 2012 Vintner's Reserve Wild Child...   \n",
       "\n",
       "          variety               winery  \n",
       "0     White Blend              Nicosia  \n",
       "1  Portuguese Red  Quinta dos Avidagos  \n",
       "2      Pinot Gris            Rainstorm  \n",
       "3        Riesling           St. Julian  \n",
       "4      Pinot Noir         Sweet Cheeks  "
      ]
     },
     "metadata": {},
     "output_type": "display_data"
    },
    {
     "name": "stdout",
     "output_type": "stream",
     "text": [
      "(129971, 14)\n"
     ]
    }
   ],
   "source": [
    "df = pd.read_csv(WINE_SRC_FILENAME)\n",
    "display(df.head(5))\n",
    "print(df.shape)"
   ]
  },
  {
   "cell_type": "code",
   "execution_count": 6,
   "metadata": {},
   "outputs": [
    {
     "data": {
      "text/plain": [
       "count         103727\n",
       "unique            19\n",
       "top       Roger Voss\n",
       "freq           25514\n",
       "Name: taster_name, dtype: object"
      ]
     },
     "execution_count": 6,
     "metadata": {},
     "output_type": "execute_result"
    }
   ],
   "source": [
    "df.taster_name.describe()\n"
   ]
  },
  {
   "cell_type": "code",
   "execution_count": 7,
   "metadata": {},
   "outputs": [
    {
     "data": {
      "text/plain": [
       "count    129971.000000\n",
       "mean         40.379615\n",
       "std          11.111982\n",
       "min           3.000000\n",
       "25%          33.000000\n",
       "50%          39.000000\n",
       "75%          47.000000\n",
       "max         135.000000\n",
       "Name: description, dtype: float64"
      ]
     },
     "execution_count": 7,
     "metadata": {},
     "output_type": "execute_result"
    }
   ],
   "source": [
    "df.taster_name.value_counts().median()\n",
    "df.description.apply(lambda x: len(x.split())).describe()"
   ]
  },
  {
   "cell_type": "code",
   "execution_count": 8,
   "metadata": {},
   "outputs": [
    {
     "data": {
      "text/plain": [
       "count    129971.000000\n",
       "mean         88.447138\n",
       "std           3.039730\n",
       "min          80.000000\n",
       "25%          86.000000\n",
       "50%          88.000000\n",
       "75%          91.000000\n",
       "max         100.000000\n",
       "Name: points, dtype: float64"
      ]
     },
     "execution_count": 8,
     "metadata": {},
     "output_type": "execute_result"
    }
   ],
   "source": [
    "df.points.describe()"
   ]
  },
  {
   "cell_type": "markdown",
   "metadata": {},
   "source": [
    "We can see from the data that we have about 19 tasters with about 5459 mean, 4177 median tastings. One possibility here is to do recommendations for these different tasters. Another option is to group wines based on descriptions and not necessarily grape. Then, when a user searches for a grape we return back one with the best score/price?"
   ]
  },
  {
   "cell_type": "markdown",
   "metadata": {},
   "source": [
    "From: https://github.com/kapadias/mediumposts/blob/master/nlp/published_notebooks/Introduction%20to%20Topic%20Modeling.ipynb\n",
    "try seeing what LDA does for us"
   ]
  },
  {
   "cell_type": "code",
   "execution_count": 8,
   "metadata": {},
   "outputs": [
    {
     "data": {
      "text/plain": [
       "0    aromas include tropical fruit broom brimstone ...\n",
       "1    this is ripe and fruity a wine that is smooth ...\n",
       "2    tart and snappy the flavors of lime flesh and ...\n",
       "3    pineapple rind lemon pith and orange blossom s...\n",
       "4    much like the regular bottling from 2012 this ...\n",
       "Name: cleansed, dtype: object"
      ]
     },
     "execution_count": 8,
     "metadata": {},
     "output_type": "execute_result"
    }
   ],
   "source": [
    "# data cleansing first, lets just focus on description\n",
    "import re\n",
    "\n",
    "# Remove punctuation\n",
    "df['cleansed'] = df['description'].map(lambda x: re.sub('[,\\.!?]', '', x))\n",
    "\n",
    "# Convert the titles to lowercase\n",
    "df['cleansed'] = df['cleansed'].map(lambda x: x.lower())\n",
    "\n",
    "df['cleansed'].head()"
   ]
  },
  {
   "cell_type": "code",
   "execution_count": 9,
   "metadata": {},
   "outputs": [
    {
     "data": {
      "image/png": "[encoded data removed]",
      "text/plain": [
       "<PIL.Image.Image image mode=RGB size=400x200 at 0x11F65D250>"
      ]
     },
     "execution_count": 9,
     "metadata": {},
     "output_type": "execute_result"
    }
   ],
   "source": [
    "# Import the wordcloud library\n",
    "from wordcloud import WordCloud\n",
    "\n",
    "# Join the different processed titles together.\n",
    "long_string = ','.join(list(df['cleansed'].values))\n",
    "\n",
    "# Create a WordCloud object\n",
    "wordcloud = WordCloud(background_color=\"white\", max_words=1000, contour_width=3, contour_color='steelblue')\n",
    "\n",
    "# Generate a word cloud\n",
    "wordcloud.generate(long_string)\n",
    "\n",
    "# Visualize the word cloud\n",
    "wordcloud.to_image()"
   ]
  },
  {
   "cell_type": "code",
   "execution_count": 10,
   "metadata": {},
   "outputs": [
    {
     "data": {
      "image/png": "[encoded data removed]",
      "text/plain": [
       "<Figure size 1080x667.491 with 1 Axes>"
      ]
     },
     "metadata": {
      "needs_background": "light"
     },
     "output_type": "display_data"
    }
   ],
   "source": [
    "\n",
    "# Load the library with the CountVectorizer method\n",
    "from sklearn.feature_extraction.text import CountVectorizer\n",
    "import numpy as np\n",
    "\n",
    "import matplotlib.pyplot as plt\n",
    "import seaborn as sns\n",
    "sns.set_style('whitegrid')\n",
    "%matplotlib inline\n",
    "\n",
    "# Helper function\n",
    "def plot_10_most_common_words(count_data, count_vectorizer):\n",
    "    import matplotlib.pyplot as plt\n",
    "    words = count_vectorizer.get_feature_names()\n",
    "    total_counts = np.zeros(len(words))\n",
    "    for t in count_data:\n",
    "        total_counts+=t.toarray()[0]\n",
    "    \n",
    "    count_dict = (zip(words, total_counts))\n",
    "    count_dict = sorted(count_dict, key=lambda x:x[1], reverse=True)[0:10]\n",
    "    words = [w[0] for w in count_dict]\n",
    "    counts = [w[1] for w in count_dict]\n",
    "    x_pos = np.arange(len(words)) \n",
    "    \n",
    "    plt.figure(2, figsize=(15, 15/1.6180))\n",
    "    plt.subplot(title='10 most common words')\n",
    "    sns.set_context(\"notebook\", font_scale=1.25, rc={\"lines.linewidth\": 2.5})\n",
    "    sns.barplot(x_pos, counts, palette='husl')\n",
    "    plt.xticks(x_pos, words, rotation=90) \n",
    "    plt.xlabel('words')\n",
    "    plt.ylabel('counts')\n",
    "    plt.show()\n",
    "\n",
    "# Initialise the count vectorizer with the English stop words\n",
    "count_vectorizer = CountVectorizer(stop_words='english')\n",
    "\n",
    "# Fit and transform the processed titles\n",
    "count_data = count_vectorizer.fit_transform(df['cleansed'])\n",
    "\n",
    "# Visualise the 10 most common words\n",
    "plot_10_most_common_words(count_data, count_vectorizer)"
   ]
  },
  {
   "cell_type": "code",
   "execution_count": 11,
   "metadata": {},
   "outputs": [
    {
     "name": "stdout",
     "output_type": "stream",
     "text": [
      "Topics found via LDA:\n",
      "\n",
      "Topic #0:\n",
      "wine flavors acidity apple crisp citrus fruit fresh lemon dry\n",
      "\n",
      "Topic #1:\n",
      "wine fruit drink tannins acidity ripe fruits black rich red\n",
      "\n",
      "Topic #2:\n",
      "flavors wine cabernet cherry oak fruit blend tannins black sauvignon\n",
      "\n",
      "Topic #3:\n",
      "palate aromas cherry nose black offers tannins fruit red spice\n",
      "\n",
      "Topic #4:\n",
      "flavors aromas finish palate fruit berry plum notes cherry oak\n"
     ]
    }
   ],
   "source": [
    "import warnings\n",
    "warnings.simplefilter(\"ignore\", DeprecationWarning)\n",
    "\n",
    "# Load the LDA model from sk-learn\n",
    "from sklearn.decomposition import LatentDirichletAllocation as LDA\n",
    " \n",
    "# Helper function\n",
    "def print_topics(model, count_vectorizer, n_top_words):\n",
    "    words = count_vectorizer.get_feature_names()\n",
    "    for topic_idx, topic in enumerate(model.components_):\n",
    "        print(\"\\nTopic #%d:\" % topic_idx)\n",
    "        print(\" \".join([words[i]\n",
    "                        for i in topic.argsort()[:-n_top_words - 1:-1]]))\n",
    "        \n",
    "# Tweak the two parameters below (use int values below 15)\n",
    "number_topics = 5\n",
    "number_words = 10\n",
    "\n",
    "# Create and fit the LDA model\n",
    "lda = LDA(n_components=number_topics)\n",
    "lda.fit(count_data)\n",
    "\n",
    "# Print the topics found by the LDA model\n",
    "print(\"Topics found via LDA:\")\n",
    "print_topics(lda, count_vectorizer, number_words)"
   ]
  },
  {
   "cell_type": "code",
   "execution_count": 12,
   "metadata": {},
   "outputs": [],
   "source": [
    "from transformers import BertTokenizer"
   ]
  },
  {
   "cell_type": "code",
   "execution_count": 13,
   "metadata": {},
   "outputs": [],
   "source": [
    "tokenizer = BertTokenizer.from_pretrained('bert-base-cased')"
   ]
  },
  {
   "cell_type": "code",
   "execution_count": 14,
   "metadata": {},
   "outputs": [
    {
     "data": {
      "text/plain": [
       "['A',\n",
       " '##roma',\n",
       " '##s',\n",
       " 'include',\n",
       " 'tropical',\n",
       " 'fruit',\n",
       " ',',\n",
       " 'br',\n",
       " '##oom',\n",
       " ',',\n",
       " 'br',\n",
       " '##ims',\n",
       " '##tone',\n",
       " 'and',\n",
       " 'dried',\n",
       " 'herb',\n",
       " '.',\n",
       " 'The',\n",
       " 'p',\n",
       " '##ala',\n",
       " '##te',\n",
       " 'isn',\n",
       " \"'\",\n",
       " 't',\n",
       " 'overly',\n",
       " 'expressive',\n",
       " ',',\n",
       " 'offering',\n",
       " 'un',\n",
       " '##rip',\n",
       " '##ened',\n",
       " 'apple',\n",
       " ',',\n",
       " 'c',\n",
       " '##itrus',\n",
       " 'and',\n",
       " 'dried',\n",
       " 'sage',\n",
       " 'alongside',\n",
       " 'br',\n",
       " '##isk',\n",
       " 'acid',\n",
       " '##ity',\n",
       " '.']"
      ]
     },
     "execution_count": 14,
     "metadata": {},
     "output_type": "execute_result"
    }
   ],
   "source": [
    "tokenizer.tokenize(\"Aromas include tropical fruit, broom, brimstone and dried herb. The palate isn't overly expressive, offering unripened apple, citrus and dried sage alongside brisk acidity.\")"
   ]
  },
  {
   "cell_type": "code",
   "execution_count": 10,
   "metadata": {},
   "outputs": [
    {
     "data": {
      "text/plain": [
       "0       White Blend\n",
       "1    Portuguese Red\n",
       "2        Pinot Gris\n",
       "3          Riesling\n",
       "4        Pinot Noir\n",
       "Name: variety, dtype: object"
      ]
     },
     "execution_count": 10,
     "metadata": {},
     "output_type": "execute_result"
    }
   ],
   "source": [
    "df.variety[:5]"
   ]
  },
  {
   "cell_type": "code",
   "execution_count": 29,
   "metadata": {},
   "outputs": [
    {
     "name": "stdout",
     "output_type": "stream",
     "text": [
      "Index(['Weissburgunder', 'Müller-Thurgau', 'Pinot Meunier', 'Malvasia',\n",
      "       'Assyrtico', 'Prugnolo Gentile', 'Cabernet Sauvignon-Carmenère',\n",
      "       'Graciano', 'Pedro Ximénez', 'Cinsault',\n",
      "       ...\n",
      "       'Garnacha-Cariñena', 'Francisa', 'Sauvignon Blanc-Sauvignon Gris',\n",
      "       'Bobal-Cabernet Sauvignon', 'Pinot Blanc-Viognier', 'Muscadel',\n",
      "       'St. Vincent', 'Tempranillo-Tannat', 'Franconia', 'Tinto Velasco'],\n",
      "      dtype='object', length=576)\n"
     ]
    }
   ],
   "source": [
    "counts = df.variety.value_counts()\n",
    "df.variety.describe()\n",
    "print(counts[counts < 50].index)"
   ]
  },
  {
   "cell_type": "code",
   "execution_count": 52,
   "metadata": {},
   "outputs": [
    {
     "name": "stdout",
     "output_type": "stream",
     "text": [
      "(96535, 14)\n",
      "(96433, 14)\n"
     ]
    }
   ],
   "source": [
    "# Remove all entries that have less than 100 reviews\n",
    "df = df[df.groupby('variety')['variety'].transform('count').ge(100)]\n",
    "print(df.shape)\n",
    "\n",
    "# Remove blends\n",
    "df = df[~df.variety.str.contains(\"Blend\")]\n",
    "\n",
    "# Remove More blends manually\n",
    "filters = ['Blend', 'Cabernet Sauvignon-Merlot', 'Cabernet Sauvignon-Syrah', 'Meritage', 'G-S-M']\n",
    "for filtered_variety in filters:\n",
    "    df = df[~df.variety.str.contains(filtered_variety)]\n",
    "\n",
    "print(df.shape)"
   ]
  },
  {
   "cell_type": "code",
   "execution_count": 53,
   "metadata": {},
   "outputs": [
    {
     "name": "stdout",
     "output_type": "stream",
     "text": [
      "(0, 14)\n",
      "Series([], Name: description, dtype: object)\n"
     ]
    }
   ],
   "source": [
    "# used to determine that Sauvignon is Sauvignon Blanc\n",
    "df_Sauvignon = df.loc[df['variety'] == 'Sauvignon']\n",
    "print(df_Sauvignon.shape)\n",
    "with pd.option_context(\"display.max_rows\", 1000):\n",
    "    print(df_Sauvignon.description)"
   ]
  },
  {
   "cell_type": "code",
   "execution_count": 54,
   "metadata": {},
   "outputs": [
    {
     "name": "stdout",
     "output_type": "stream",
     "text": [
      "Pinot Noir                       13453\n",
      "Chardonnay                       11753\n",
      "Cabernet Sauvignon                9472\n",
      "Sauvignon Blanc                   5283\n",
      "Riesling                          5189\n",
      "Syrah                             4978\n",
      "Rosé                              3667\n",
      "Pinot Grigio                      3103\n",
      "Merlot                            3102\n",
      "Zinfandel                         2936\n",
      "Nebbiolo                          2804\n",
      "Sangiovese                        2707\n",
      "Malbec                            2652\n",
      "Portuguese Red                    2466\n",
      "Tempranillo                       2076\n",
      "Cabernet Franc                    1353\n",
      "Grüner Veltliner                  1345\n",
      "Gamay                             1257\n",
      "Portuguese White                  1159\n",
      "Gewürztraminer                    1012\n",
      "Viognier                           996\n",
      "Grenache                           977\n",
      "Prosecco                           945\n",
      "Petite Sirah                       770\n",
      "Sangiovese Grosso                  751\n",
      "Barbera                            721\n",
      "Port                               668\n",
      "Corvina, Rondinella, Molinara      619\n",
      "Albariño                           614\n",
      "Chenin Blanc                       591\n",
      "Carmenère                          575\n",
      "Moscato                            490\n",
      "Mourvèdre                          376\n",
      "Nero d'Avola                       365\n",
      "Aglianico                          359\n",
      "Verdejo                            294\n",
      "Melon                              280\n",
      "Garganega                          270\n",
      "Petit Verdot                       269\n",
      "Torrontés                          250\n",
      "Vermentino                         232\n",
      "Montepulciano                      215\n",
      "Zweigelt                           209\n",
      "Touriga Nacional                   200\n",
      "Dolcetto                           180\n",
      "Mencía                             178\n",
      "Tannat                             178\n",
      "Roussanne                          168\n",
      "Verdicchio                         164\n",
      "Turbiana                           157\n",
      "Fiano                              151\n",
      "Vernaccia                          138\n",
      "Pinotage                           137\n",
      "Grillo                             137\n",
      "Sémillon                           135\n",
      "Grenache Blanc                     131\n",
      "Friulano                           122\n",
      "Greco                              121\n",
      "Nerello Mascalese                  117\n",
      "Viura                              107\n",
      "Bonarda                            105\n",
      "Sagrantino                         104\n",
      "Sherry                             100\n",
      "Name: variety, dtype: int64\n"
     ]
    }
   ],
   "source": [
    "# now print varieties\n",
    "with pd.option_context(\"display.max_rows\", 1000):\n",
    "    print(df.variety.value_counts())\n"
   ]
  },
  {
   "cell_type": "code",
   "execution_count": 57,
   "metadata": {},
   "outputs": [
    {
     "name": "stdout",
     "output_type": "stream",
     "text": [
      "(96433, 14)\n",
      "\\begin{tabular}{lr}\n",
      "\\toprule\n",
      "{} &  variety \\\\\n",
      "\\midrule\n",
      "Pinot Noir                    &    13453 \\\\\n",
      "Chardonnay                    &    11753 \\\\\n",
      "Cabernet Sauvignon            &     9472 \\\\\n",
      "Sauvignon Blanc               &     5283 \\\\\n",
      "Riesling                      &     5189 \\\\\n",
      "Syrah                         &     4978 \\\\\n",
      "Rosé                          &     3667 \\\\\n",
      "Pinot Grigio                  &     3103 \\\\\n",
      "Merlot                        &     3102 \\\\\n",
      "Zinfandel                     &     2936 \\\\\n",
      "Nebbiolo                      &     2804 \\\\\n",
      "Sangiovese                    &     2707 \\\\\n",
      "Malbec                        &     2652 \\\\\n",
      "Portuguese Red                &     2466 \\\\\n",
      "Tempranillo                   &     2076 \\\\\n",
      "Cabernet Franc                &     1353 \\\\\n",
      "Grüner Veltliner              &     1345 \\\\\n",
      "Gamay                         &     1257 \\\\\n",
      "Portuguese White              &     1159 \\\\\n",
      "Gewürztraminer                &     1012 \\\\\n",
      "Viognier                      &      996 \\\\\n",
      "Grenache                      &      977 \\\\\n",
      "Prosecco                      &      945 \\\\\n",
      "Petite Sirah                  &      770 \\\\\n",
      "Sangiovese Grosso             &      751 \\\\\n",
      "Barbera                       &      721 \\\\\n",
      "Port                          &      668 \\\\\n",
      "Corvina, Rondinella, Molinara &      619 \\\\\n",
      "Albariño                      &      614 \\\\\n",
      "Chenin Blanc                  &      591 \\\\\n",
      "Carmenère                     &      575 \\\\\n",
      "Moscato                       &      490 \\\\\n",
      "Mourvèdre                     &      376 \\\\\n",
      "Nero d'Avola                  &      365 \\\\\n",
      "Aglianico                     &      359 \\\\\n",
      "Verdejo                       &      294 \\\\\n",
      "Melon                         &      280 \\\\\n",
      "Garganega                     &      270 \\\\\n",
      "Petit Verdot                  &      269 \\\\\n",
      "Torrontés                     &      250 \\\\\n",
      "Vermentino                    &      232 \\\\\n",
      "Montepulciano                 &      215 \\\\\n",
      "Zweigelt                      &      209 \\\\\n",
      "Touriga Nacional              &      200 \\\\\n",
      "Dolcetto                      &      180 \\\\\n",
      "Mencía                        &      178 \\\\\n",
      "Tannat                        &      178 \\\\\n",
      "Roussanne                     &      168 \\\\\n",
      "Verdicchio                    &      164 \\\\\n",
      "Turbiana                      &      157 \\\\\n",
      "Fiano                         &      151 \\\\\n",
      "Vernaccia                     &      138 \\\\\n",
      "Pinotage                      &      137 \\\\\n",
      "Grillo                        &      137 \\\\\n",
      "Sémillon                      &      135 \\\\\n",
      "Grenache Blanc                &      131 \\\\\n",
      "Friulano                      &      122 \\\\\n",
      "Greco                         &      121 \\\\\n",
      "Nerello Mascalese             &      117 \\\\\n",
      "Viura                         &      107 \\\\\n",
      "Bonarda                       &      105 \\\\\n",
      "Sagrantino                    &      104 \\\\\n",
      "Sherry                        &      100 \\\\\n",
      "\\bottomrule\n",
      "\\end{tabular}\n",
      "\n"
     ]
    }
   ],
   "source": [
    "# code taken from here: https://github.com/RoaldSchuring/wine_recommender/blob/master/creating_wine_review_embeddings.ipynb\n",
    "variety_mapping = {'Shiraz': 'Syrah', \n",
    "                   'Pinot Gris': 'Pinot Grigio', 'Pinot Blanc': 'Pinot Grigio',  'Pinot Bianco' : 'Pinot Grigio', \n",
    "                   'Garnacha': 'Grenache',\n",
    "                   'Alvarinho' : 'Albariño',\n",
    "                    'Muscat' : 'Moscato',\n",
    "                   'Glera' : 'Prosecco',\n",
    "                   'Sauvignon': 'Sauvignon Blanc',\n",
    "                   'Blaufränkisch': 'Gamay',\n",
    "                   'Primitivo': 'Zinfandel',\n",
    "                   'Pinot Nero': 'Pinot Noir',\n",
    "                   'Tinta de Toro': 'Tempranillo', 'Tinto Fino': 'Tempranillo',\n",
    "                    'Monastrell': 'Mourvèdre',\n",
    "                   'Alvarinho': 'Albariño',\n",
    "                   'Rosato': 'Rosé',\n",
    "                  }\n",
    "\n",
    "def consolidate_varieties(variety_name):\n",
    "    if variety_name in variety_mapping:\n",
    "        return variety_mapping[variety_name]\n",
    "    else:\n",
    "        return variety_name\n",
    "\n",
    "df['variety'] = df['variety'].apply(consolidate_varieties)\n",
    "print(df.shape)\n",
    "with pd.option_context(\"display.max_rows\", 1000):\n",
    "    print(df.variety.value_counts().to_latex(index=True))"
   ]
  },
  {
   "cell_type": "code",
   "execution_count": 66,
   "metadata": {},
   "outputs": [],
   "source": [
    "# Imports\n",
    "import os\n",
    "import pandas as pd\n",
    "import numpy as np\n",
    "import string\n",
    "from operator import itemgetter\n",
    "from collections import Counter, OrderedDict\n",
    "\n",
    "from nltk.tokenize import word_tokenize, sent_tokenize\n",
    "from nltk.stem import SnowballStemmer\n",
    "from nltk.corpus import stopwords\n",
    "\n",
    "from gensim.models.phrases import Phrases, Phraser\n",
    "from gensim.models import Word2Vec\n",
    "\n",
    "from sklearn.feature_extraction.text import TfidfVectorizer\n",
    "from sklearn.metrics.pairwise import cosine_similarity\n",
    "from sklearn.neighbors import NearestNeighbors\n",
    "from sklearn.decomposition import PCA\n",
    "from matplotlib import pyplot as plt"
   ]
  },
  {
   "cell_type": "code",
   "execution_count": 60,
   "metadata": {},
   "outputs": [
    {
     "name": "stdout",
     "output_type": "stream",
     "text": [
      "['Aromas include tropical fruit, broom, brimstone and dried herb.', \"The palate isn't overly expressive, offering unripened apple, citrus and dried sage alongside brisk acidity.\", 'This is ripe and fruity, a wine that is smooth while still structured.', 'Firm tannins are filled out with juicy red berry fruits and freshened with acidity.', \"It's  already drinkable, although it will certainly be better from 2016.\"]\n"
     ]
    }
   ],
   "source": [
    "# Starting to data clean the descriptions\n",
    "\n",
    "df_copy = df.copy() # just make a copy in case we mess things up\n",
    "\n",
    "reviews_list = list(df_copy['description'])\n",
    "reviews_list = [str(r) for r in reviews_list]\n",
    "full_corpus = ' '.join(reviews_list)\n",
    "sentences_tokenized = sent_tokenize(full_corpus)\n",
    "\n",
    "print(sentences_tokenized[:5])"
   ]
  },
  {
   "cell_type": "code",
   "execution_count": 64,
   "metadata": {},
   "outputs": [],
   "source": [
    "stop_words = set(stopwords.words('english')) \n",
    "\n",
    "punctuation_table = str.maketrans({key: None for key in string.punctuation})\n",
    "sno = SnowballStemmer('english')\n",
    "\n",
    "def normalize_text(raw_text):\n",
    "    try:\n",
    "        word_list = word_tokenize(raw_text)\n",
    "        normalized_sentence = []\n",
    "        for w in word_list:\n",
    "            try:\n",
    "                w = str(w)\n",
    "                lower_case_word = str.lower(w)\n",
    "                stemmed_word = sno.stem(lower_case_word)\n",
    "                no_punctuation = stemmed_word.translate(punctuation_table)\n",
    "                if len(no_punctuation) > 1 and no_punctuation not in stop_words:\n",
    "                    normalized_sentence.append(no_punctuation)\n",
    "            except:\n",
    "                continue\n",
    "        return normalized_sentence\n",
    "    except:\n",
    "        return ''\n",
    "\n",
    "# sentence_sample = sentences_tokenized[:10]\n",
    "normalized_sentences = []\n",
    "for s in sentences_tokenized:\n",
    "    normalized_text = normalize_text(s)\n",
    "    normalized_sentences.append(normalized_text)"
   ]
  },
  {
   "cell_type": "code",
   "execution_count": 65,
   "metadata": {},
   "outputs": [
    {
     "data": {
      "text/plain": [
       "[['aroma', 'includ', 'tropic', 'fruit', 'broom', 'brimston', 'dri', 'herb'],\n",
       " ['palat',\n",
       "  'nt',\n",
       "  'express',\n",
       "  'offer',\n",
       "  'unripen',\n",
       "  'appl',\n",
       "  'citrus',\n",
       "  'dri',\n",
       "  'sage',\n",
       "  'alongsid',\n",
       "  'brisk',\n",
       "  'acid'],\n",
       " ['ripe', 'fruiti', 'wine', 'smooth', 'still', 'structur'],\n",
       " ['firm',\n",
       "  'tannin',\n",
       "  'fill',\n",
       "  'juici',\n",
       "  'red',\n",
       "  'berri',\n",
       "  'fruit',\n",
       "  'freshen',\n",
       "  'acid'],\n",
       " ['alreadi', 'drinkabl', 'although', 'certain', 'better', '2016'],\n",
       " ['tart', 'snappi', 'flavor', 'lime', 'flesh', 'rind', 'domin'],\n",
       " ['green', 'pineappl', 'poke', 'crisp', 'acid', 'underscor', 'flavor'],\n",
       " ['wine', 'stainlesssteel', 'ferment'],\n",
       " ['pineappl', 'rind', 'lemon', 'pith', 'orang', 'blossom', 'start', 'aroma'],\n",
       " ['palat',\n",
       "  'bit',\n",
       "  'opul',\n",
       "  'note',\n",
       "  'honeydrizzl',\n",
       "  'guava',\n",
       "  'mango',\n",
       "  'give',\n",
       "  'way',\n",
       "  'slight',\n",
       "  'astring',\n",
       "  'semidri',\n",
       "  'finish']]"
      ]
     },
     "execution_count": 65,
     "metadata": {},
     "output_type": "execute_result"
    }
   ],
   "source": [
    "normalized_sentences[:10]"
   ]
  },
  {
   "cell_type": "code",
   "execution_count": 67,
   "metadata": {},
   "outputs": [],
   "source": [
    "phrases = Phrases(normalized_sentences)\n",
    "phrases = Phrases(phrases[normalized_sentences])\n",
    "\n",
    "ngrams = Phraser(phrases)\n",
    "\n",
    "phrased_sentences = []\n",
    "for sent in normalized_sentences:\n",
    "    phrased_sentence = ngrams[sent]\n",
    "    phrased_sentences.append(phrased_sentence)\n",
    "\n",
    "full_list_words = [item for sublist in phrased_sentences for item in sublist]\n"
   ]
  },
  {
   "cell_type": "code",
   "execution_count": 69,
   "metadata": {},
   "outputs": [
    {
     "data": {
      "text/plain": [
       "['aroma',\n",
       " 'includ',\n",
       " 'tropic',\n",
       " 'fruit',\n",
       " 'broom',\n",
       " 'brimston',\n",
       " 'dri',\n",
       " 'herb',\n",
       " 'palat',\n",
       " 'nt',\n",
       " 'express',\n",
       " 'offer',\n",
       " 'unripen',\n",
       " 'appl',\n",
       " 'citrus',\n",
       " 'dri',\n",
       " 'sage',\n",
       " 'alongsid',\n",
       " 'brisk',\n",
       " 'acid',\n",
       " 'ripe',\n",
       " 'fruiti',\n",
       " 'wine',\n",
       " 'smooth',\n",
       " 'still',\n",
       " 'structur',\n",
       " 'firm',\n",
       " 'tannin',\n",
       " 'fill',\n",
       " 'juici',\n",
       " 'red',\n",
       " 'berri',\n",
       " 'fruit',\n",
       " 'freshen',\n",
       " 'acid',\n",
       " 'alreadi_drinkabl',\n",
       " 'although',\n",
       " 'certain',\n",
       " 'better_2016',\n",
       " 'tart',\n",
       " 'snappi',\n",
       " 'flavor',\n",
       " 'lime',\n",
       " 'flesh_rind',\n",
       " 'domin',\n",
       " 'green',\n",
       " 'pineappl',\n",
       " 'poke',\n",
       " 'crisp',\n",
       " 'acid',\n",
       " 'underscor',\n",
       " 'flavor',\n",
       " 'wine',\n",
       " 'stainlesssteel_ferment',\n",
       " 'pineappl',\n",
       " 'rind',\n",
       " 'lemon_pith',\n",
       " 'orang_blossom',\n",
       " 'start',\n",
       " 'aroma',\n",
       " 'palat',\n",
       " 'bit',\n",
       " 'opul',\n",
       " 'note',\n",
       " 'honeydrizzl',\n",
       " 'guava_mango',\n",
       " 'give_way',\n",
       " 'slight',\n",
       " 'astring',\n",
       " 'semidri',\n",
       " 'finish',\n",
       " 'much',\n",
       " 'like',\n",
       " 'regular_bottl',\n",
       " '2012',\n",
       " 'come_across',\n",
       " 'rather',\n",
       " 'rough',\n",
       " 'tannic',\n",
       " 'rustic',\n",
       " 'earthi',\n",
       " 'herbal',\n",
       " 'characterist',\n",
       " 'nonetheless',\n",
       " 'think',\n",
       " 'pleasant',\n",
       " 'unfussi',\n",
       " 'countri',\n",
       " 'wine',\n",
       " 'good',\n",
       " 'companion',\n",
       " 'hearti_winter',\n",
       " 'stew',\n",
       " 'blackberri',\n",
       " 'raspberri',\n",
       " 'aroma',\n",
       " 'show',\n",
       " 'typic',\n",
       " 'navarran',\n",
       " 'whiff']"
      ]
     },
     "execution_count": 69,
     "metadata": {},
     "output_type": "execute_result"
    }
   ],
   "source": [
    "full_list_words[:100]"
   ]
  },
  {
   "cell_type": "code",
   "execution_count": 70,
   "metadata": {},
   "outputs": [],
   "source": [
    "word_counts = Counter(full_list_words)\n",
    "sorted_counts = OrderedDict(word_counts.most_common(5000))\n",
    "counter_df = pd.DataFrame.from_dict(sorted_counts, orient='index')\n",
    "# top_5000_words = counter_df.head(5000)\n",
    "counter_df.to_csv('top_5000_descriptors.csv')"
   ]
  },
  {
   "cell_type": "code",
   "execution_count": 71,
   "metadata": {},
   "outputs": [
    {
     "data": {
      "text/html": [
       "<div>\n",
       "<style scoped>\n",
       "    .dataframe tbody tr th:only-of-type {\n",
       "        vertical-align: middle;\n",
       "    }\n",
       "\n",
       "    .dataframe tbody tr th {\n",
       "        vertical-align: top;\n",
       "    }\n",
       "\n",
       "    .dataframe thead th {\n",
       "        text-align: right;\n",
       "    }\n",
       "</style>\n",
       "<table border=\"1\" class=\"dataframe\">\n",
       "  <thead>\n",
       "    <tr style=\"text-align: right;\">\n",
       "      <th></th>\n",
       "      <th>0</th>\n",
       "    </tr>\n",
       "  </thead>\n",
       "  <tbody>\n",
       "    <tr>\n",
       "      <th>wine</th>\n",
       "      <td>82803</td>\n",
       "    </tr>\n",
       "    <tr>\n",
       "      <th>flavor</th>\n",
       "      <td>70024</td>\n",
       "    </tr>\n",
       "    <tr>\n",
       "      <th>fruit</th>\n",
       "      <td>55229</td>\n",
       "    </tr>\n",
       "    <tr>\n",
       "      <th>aroma</th>\n",
       "      <td>40982</td>\n",
       "    </tr>\n",
       "    <tr>\n",
       "      <th>finish</th>\n",
       "      <td>40235</td>\n",
       "    </tr>\n",
       "    <tr>\n",
       "      <th>...</th>\n",
       "      <td>...</td>\n",
       "    </tr>\n",
       "    <tr>\n",
       "      <th>style</th>\n",
       "      <td>5008</td>\n",
       "    </tr>\n",
       "    <tr>\n",
       "      <th>honey</th>\n",
       "      <td>4834</td>\n",
       "    </tr>\n",
       "    <tr>\n",
       "      <th>deliv</th>\n",
       "      <td>4779</td>\n",
       "    </tr>\n",
       "    <tr>\n",
       "      <th>vineyard</th>\n",
       "      <td>4717</td>\n",
       "    </tr>\n",
       "    <tr>\n",
       "      <th>mouthfeel</th>\n",
       "      <td>4700</td>\n",
       "    </tr>\n",
       "  </tbody>\n",
       "</table>\n",
       "<p>100 rows × 1 columns</p>\n",
       "</div>"
      ],
      "text/plain": [
       "               0\n",
       "wine       82803\n",
       "flavor     70024\n",
       "fruit      55229\n",
       "aroma      40982\n",
       "finish     40235\n",
       "...          ...\n",
       "style       5008\n",
       "honey       4834\n",
       "deliv       4779\n",
       "vineyard    4717\n",
       "mouthfeel   4700\n",
       "\n",
       "[100 rows x 1 columns]"
      ]
     },
     "execution_count": 71,
     "metadata": {},
     "output_type": "execute_result"
    }
   ],
   "source": [
    "counter_df.head(100)"
   ]
  },
  {
   "cell_type": "code",
   "execution_count": 72,
   "metadata": {},
   "outputs": [],
   "source": [
    "normalized_sentences = []\n",
    "for sent in phrased_sentences:\n",
    "    normalized_sentence = []\n",
    "    for word in sent:\n",
    "        normalized_sentence.append(word)\n",
    "    normalized_sentences.append(normalized_sentence)"
   ]
  },
  {
   "cell_type": "code",
   "execution_count": 73,
   "metadata": {},
   "outputs": [
    {
     "name": "stdout",
     "output_type": "stream",
     "text": [
      "Word2Vec(vocab=16468, size=300, alpha=0.025)\n"
     ]
    }
   ],
   "source": [
    "wine_word2vec_model = Word2Vec(normalized_sentences, size=300, min_count=5, iter=15)\n",
    "print(wine_word2vec_model)\n",
    "\n",
    "wine_word2vec_model.save('wine_word2vec_model.bin')"
   ]
  },
  {
   "cell_type": "code",
   "execution_count": 74,
   "metadata": {},
   "outputs": [
    {
     "data": {
      "text/plain": [
       "[('white_peach', 0.7778827548027039),\n",
       " ('stone_fruit', 0.7103622555732727),\n",
       " ('yellow_peach', 0.709530234336853),\n",
       " ('peach_nectarin', 0.7082720398902893),\n",
       " ('whitepeach', 0.7004714608192444),\n",
       " ('stonefruit', 0.6175204515457153),\n",
       " ('peach_nectar', 0.6102508902549744),\n",
       " ('kiwi', 0.6089266538619995),\n",
       " ('honeydew', 0.5909467935562134),\n",
       " ('quinc', 0.5789718627929688)]"
      ]
     },
     "execution_count": 74,
     "metadata": {},
     "output_type": "execute_result"
    }
   ],
   "source": [
    "wine_word2vec_model.wv.most_similar(positive='peach', topn=10)"
   ]
  },
  {
   "cell_type": "code",
   "execution_count": 75,
   "metadata": {},
   "outputs": [],
   "source": [
    "df_year = pd.read_csv(WINE_SRC_FILENAME)\n"
   ]
  },
  {
   "cell_type": "code",
   "execution_count": 76,
   "metadata": {},
   "outputs": [],
   "source": [
    "years = df_year.pop('title')"
   ]
  },
  {
   "cell_type": "code",
   "execution_count": 91,
   "metadata": {},
   "outputs": [
    {
     "name": "stdout",
     "output_type": "stream",
     "text": [
      "\\begin{tabular}{ll}\n",
      "\\toprule\n",
      "{} &                                              title \\\\\n",
      "\\midrule\n",
      "0 &                  Nicosia 2013 Vulkà Bianco  (Etna) \\\\\n",
      "1 &      Quinta dos Avidagos 2011 Avidagos Red (Douro) \\\\\n",
      "2 &      Rainstorm 2013 Pinot Gris (Willamette Valley) \\\\\n",
      "3 &  St. Julian 2013 Reserve Late Harvest Riesling ... \\\\\n",
      "4 &  Sweet Cheeks 2012 Vintner's Reserve Wild Child... \\\\\n",
      "5 &  Tandem 2011 Ars In Vitro Tempranillo-Merlot (N... \\\\\n",
      "6 &   Terre di Giurfo 2013 Belsito Frappato (Vittoria) \\\\\n",
      "7 &              Trimbach 2012 Gewurztraminer (Alsace) \\\\\n",
      "8 &  Heinz Eifel 2013 Shine Gewürztraminer (Rheinhe... \\\\\n",
      "9 &  Jean-Baptiste Adam 2012 Les Natures Pinot Gris... \\\\\n",
      "\\bottomrule\n",
      "\\end{tabular}\n",
      "\n"
     ]
    }
   ],
   "source": [
    "print(years.head(10).to_latex(index=True))"
   ]
  },
  {
   "cell_type": "code",
   "execution_count": 87,
   "metadata": {},
   "outputs": [
    {
     "name": "stdout",
     "output_type": "stream",
     "text": [
      "<pandas.core.strings.StringMethods object at 0x1a486a7dd0>\n",
      "           0\n",
      "0       2013\n",
      "1       2011\n",
      "2       2013\n",
      "3       2013\n",
      "4       2012\n",
      "...      ...\n",
      "129966  2013\n",
      "129967  2004\n",
      "129968  2013\n",
      "129969  2012\n",
      "129970  2012\n",
      "\n",
      "[129971 rows x 1 columns]\n"
     ]
    }
   ],
   "source": [
    "# Code to extract the year from the title\n",
    "print(years.str)\n",
    "years_reg = years.str.extract(r'([0-9]{4})')\n",
    "print(years_reg)"
   ]
  },
  {
   "cell_type": "code",
   "execution_count": null,
   "metadata": {},
   "outputs": [],
   "source": []
  }
 ],
 "metadata": {
  "kernelspec": {
   "display_name": "Python 3",
   "language": "python",
   "name": "python3"
  },
  "language_info": {
   "codemirror_mode": {
    "name": "ipython",
    "version": 3
   },
   "file_extension": ".py",
   "mimetype": "text/x-python",
   "name": "python",
   "nbconvert_exporter": "python",
   "pygments_lexer": "ipython3",
   "version": "3.7.7"
  }
 },
 "nbformat": 4,
 "nbformat_minor": 4
}
