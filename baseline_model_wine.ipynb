{
 "cells": [
  {
   "cell_type": "markdown",
   "metadata": {},
   "source": [
    "Introduction to notebook\n",
    "\n",
    "First objective: Figure out a simpler way to read in the data instead of loading all of it in memory\n",
    "I guess 50MB might not be so bad for this? Maybe lets proceed for now without using readers\n",
    "I think I am going to follow the general structure of https://towardsdatascience.com/perfume-recommendations-using-natural-language-processing-ad3e6736074c\n"
   ]
  },
  {
   "cell_type": "markdown",
   "metadata": {},
   "source": [
    "## Loading dependencies"
   ]
  },
  {
   "cell_type": "code",
   "execution_count": 13,
   "metadata": {},
   "outputs": [],
   "source": [
    "import pandas as pd\n",
    "import pickle\n",
    "import os\n",
    "from IPython.display import display, HTML\n",
    "from nltk.stem import SnowballStemmer\n",
    "from gensim.parsing.preprocessing import remove_stopwords\n",
    "from sklearn.feature_extraction.text import TfidfVectorizer\n",
    "from sklearn.metrics.pairwise import cosine_similarity"
   ]
  },
  {
   "cell_type": "code",
   "execution_count": 5,
   "metadata": {},
   "outputs": [],
   "source": [
    "WINE_SRC_FILENAME = os.path.join(\n",
    "    \"data\", \"wine-reviews\", \"winemag-data-130k-v2.csv\")"
   ]
  },
  {
   "cell_type": "code",
   "execution_count": 6,
   "metadata": {},
   "outputs": [],
   "source": [
    "col_list=['description', 'country', 'points', 'price', 'title']\n",
    "df = pd.read_csv(WINE_SRC_FILENAME, usecols=col_list)"
   ]
  },
  {
   "cell_type": "markdown",
   "metadata": {},
   "source": [
    "## Cleaning the data"
   ]
  },
  {
   "cell_type": "code",
   "execution_count": 9,
   "metadata": {},
   "outputs": [
    {
     "name": "stdout",
     "output_type": "stream",
     "text": [
      "    country                                        description  points  price  \\\n",
      "0     Italy  Aromas include tropical fruit, broom, brimston...      87    NaN   \n",
      "1  Portugal  This is ripe and fruity, a wine that is smooth...      87   15.0   \n",
      "2        US  Tart and snappy, the flavors of lime flesh and...      87   14.0   \n",
      "3        US  Pineapple rind, lemon pith and orange blossom ...      87   13.0   \n",
      "4        US  Much like the regular bottling from 2012, this...      87   65.0   \n",
      "\n",
      "                                               title  \n",
      "0                  Nicosia 2013 Vulkà Bianco  (Etna)  \n",
      "1      Quinta dos Avidagos 2011 Avidagos Red (Douro)  \n",
      "2      Rainstorm 2013 Pinot Gris (Willamette Valley)  \n",
      "3  St. Julian 2013 Reserve Late Harvest Riesling ...  \n",
      "4  Sweet Cheeks 2012 Vintner's Reserve Wild Child...  \n"
     ]
    }
   ],
   "source": [
    "print(df.head())"
   ]
  },
  {
   "cell_type": "code",
   "execution_count": 10,
   "metadata": {},
   "outputs": [
    {
     "name": "stdout",
     "output_type": "stream",
     "text": [
      "0    aromas include tropical fruit, broom, brimston...\n",
      "1    ripe fruity, wine smooth structured. firm tann...\n",
      "2    tart snappy, flavors lime flesh rind dominate....\n",
      "3    pineapple rind, lemon pith orange blossom star...\n",
      "4    like regular bottling 2012, comes rough tannic...\n",
      "Name: reviews_new, dtype: object\n"
     ]
    }
   ],
   "source": [
    "# think about also adding specific stopwords for wines\n",
    "df['reviews_new'] = df.description.str.lower().apply(remove_stopwords)\n",
    "print(df.reviews_new.head())"
   ]
  },
  {
   "cell_type": "code",
   "execution_count": 15,
   "metadata": {},
   "outputs": [
    {
     "name": "stdout",
     "output_type": "stream",
     "text": [
      "(129971, 8832)\n"
     ]
    }
   ],
   "source": [
    "#Fit TFIDF \n",
    "#Learn vocabulary and tfidf from all style_ids.\n",
    "tf = TfidfVectorizer(analyzer='word', \n",
    "                     min_df=10,\n",
    "                     ngram_range=(1, 1))\n",
    "tf.fit(df['reviews_new'])\n",
    "\n",
    "#Transform style_id products to document-term matrix.\n",
    "tfidf_matrix = tf.transform(df['reviews_new'])\n",
    "pickle.dump(tf, open(\"models/tfidf_model.pkl\", \"wb\"))\n",
    "\n",
    "print(tfidf_matrix.shape)"
   ]
  },
  {
   "cell_type": "code",
   "execution_count": 17,
   "metadata": {},
   "outputs": [],
   "source": [
    "# Lower the dimensionality of the matrix\n",
    "from sklearn.decomposition import TruncatedSVD\n",
    "svd = TruncatedSVD(n_components=500)\n",
    "latent_matrix = svd.fit_transform(tfidf_matrix)\n",
    "pickle.dump(svd, open(\"models/svd_model.pkl\", \"wb\"))"
   ]
  },
  {
   "cell_type": "code",
   "execution_count": 19,
   "metadata": {},
   "outputs": [
    {
     "name": "stdout",
     "output_type": "stream",
     "text": [
      "(129971, 25)\n"
     ]
    }
   ],
   "source": [
    "n = 25 #pick components\n",
    "#Use elbow and cumulative plot to pick number of components. \n",
    "#Need high ammount of variance explained. \n",
    "doc_labels = df.title\n",
    "svd_feature_matrix = pd.DataFrame(latent_matrix[:,0:n] ,index=doc_labels)\n",
    "print(svd_feature_matrix.shape)\n",
    "svd_feature_matrix.head()\n",
    "\n",
    "pickle.dump(svd_feature_matrix, open(\"models/lsa_embeddings.pkl\", \"wb\"))"
   ]
  },
  {
   "cell_type": "code",
   "execution_count": null,
   "metadata": {},
   "outputs": [],
   "source": []
  }
 ],
 "metadata": {
  "kernelspec": {
   "display_name": "Python 3",
   "language": "python",
   "name": "python3"
  },
  "language_info": {
   "codemirror_mode": {
    "name": "ipython",
    "version": 3
   },
   "file_extension": ".py",
   "mimetype": "text/x-python",
   "name": "python",
   "nbconvert_exporter": "python",
   "pygments_lexer": "ipython3",
   "version": "3.7.7"
  }
 },
 "nbformat": 4,
 "nbformat_minor": 4
}
